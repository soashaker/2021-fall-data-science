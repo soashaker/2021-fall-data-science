{
 "cells": [
  {
   "cell_type": "markdown",
   "metadata": {},
   "source": [
    "# Exploratory Data Analysis Exercise\n",
    "* For this part we will be using the `data/cars.csv` dataset"
   ]
  },
  {
   "cell_type": "code",
   "execution_count": 2,
   "metadata": {},
   "outputs": [],
   "source": [
    "import pandas as pd\n",
    "import numpy as np\n",
    "import matplotlib.pyplot as plt\n",
    "import seaborn as sns\n",
    "sns.set()\n",
    "\n",
    "%matplotlib inline \n",
    "import scipy.stats as stats\n"
   ]
  },
  {
   "cell_type": "markdown",
   "metadata": {},
   "source": [
    "# Load in the data\n",
    "* Use the file in the data folder called 'cars.csv'\n",
    "* Save it as a varible named 'df'\n",
    "* Display the first 5 rows of our dataframe"
   ]
  },
  {
   "cell_type": "code",
   "execution_count": 3,
   "metadata": {},
   "outputs": [
    {
     "data": {
      "text/html": [
       "<div>\n",
       "<style scoped>\n",
       "    .dataframe tbody tr th:only-of-type {\n",
       "        vertical-align: middle;\n",
       "    }\n",
       "\n",
       "    .dataframe tbody tr th {\n",
       "        vertical-align: top;\n",
       "    }\n",
       "\n",
       "    .dataframe thead th {\n",
       "        text-align: right;\n",
       "    }\n",
       "</style>\n",
       "<table border=\"1\" class=\"dataframe\">\n",
       "  <thead>\n",
       "    <tr style=\"text-align: right;\">\n",
       "      <th></th>\n",
       "      <th>Make</th>\n",
       "      <th>Model</th>\n",
       "      <th>Year</th>\n",
       "      <th>Engine Fuel Type</th>\n",
       "      <th>Engine HP</th>\n",
       "      <th>Engine Cylinders</th>\n",
       "      <th>Transmission Type</th>\n",
       "      <th>Driven_Wheels</th>\n",
       "      <th>Number of Doors</th>\n",
       "      <th>Vehicle Size</th>\n",
       "      <th>Vehicle Style</th>\n",
       "      <th>highway MPG</th>\n",
       "      <th>city mpg</th>\n",
       "      <th>Popularity</th>\n",
       "      <th>MSRP</th>\n",
       "    </tr>\n",
       "  </thead>\n",
       "  <tbody>\n",
       "    <tr>\n",
       "      <th>0</th>\n",
       "      <td>BMW</td>\n",
       "      <td>1 Series M</td>\n",
       "      <td>2011</td>\n",
       "      <td>premium unleaded (required)</td>\n",
       "      <td>335.0</td>\n",
       "      <td>6.0</td>\n",
       "      <td>MANUAL</td>\n",
       "      <td>rear wheel drive</td>\n",
       "      <td>2.0</td>\n",
       "      <td>Compact</td>\n",
       "      <td>Coupe</td>\n",
       "      <td>26</td>\n",
       "      <td>19</td>\n",
       "      <td>3916</td>\n",
       "      <td>46135</td>\n",
       "    </tr>\n",
       "    <tr>\n",
       "      <th>1</th>\n",
       "      <td>BMW</td>\n",
       "      <td>1 Series</td>\n",
       "      <td>2011</td>\n",
       "      <td>premium unleaded (required)</td>\n",
       "      <td>300.0</td>\n",
       "      <td>6.0</td>\n",
       "      <td>MANUAL</td>\n",
       "      <td>rear wheel drive</td>\n",
       "      <td>2.0</td>\n",
       "      <td>Compact</td>\n",
       "      <td>Convertible</td>\n",
       "      <td>28</td>\n",
       "      <td>19</td>\n",
       "      <td>3916</td>\n",
       "      <td>40650</td>\n",
       "    </tr>\n",
       "    <tr>\n",
       "      <th>2</th>\n",
       "      <td>BMW</td>\n",
       "      <td>1 Series</td>\n",
       "      <td>2011</td>\n",
       "      <td>premium unleaded (required)</td>\n",
       "      <td>300.0</td>\n",
       "      <td>6.0</td>\n",
       "      <td>MANUAL</td>\n",
       "      <td>rear wheel drive</td>\n",
       "      <td>2.0</td>\n",
       "      <td>Compact</td>\n",
       "      <td>Coupe</td>\n",
       "      <td>28</td>\n",
       "      <td>20</td>\n",
       "      <td>3916</td>\n",
       "      <td>36350</td>\n",
       "    </tr>\n",
       "    <tr>\n",
       "      <th>3</th>\n",
       "      <td>BMW</td>\n",
       "      <td>1 Series</td>\n",
       "      <td>2011</td>\n",
       "      <td>premium unleaded (required)</td>\n",
       "      <td>230.0</td>\n",
       "      <td>6.0</td>\n",
       "      <td>MANUAL</td>\n",
       "      <td>rear wheel drive</td>\n",
       "      <td>2.0</td>\n",
       "      <td>Compact</td>\n",
       "      <td>Coupe</td>\n",
       "      <td>28</td>\n",
       "      <td>18</td>\n",
       "      <td>3916</td>\n",
       "      <td>29450</td>\n",
       "    </tr>\n",
       "    <tr>\n",
       "      <th>4</th>\n",
       "      <td>BMW</td>\n",
       "      <td>1 Series</td>\n",
       "      <td>2011</td>\n",
       "      <td>premium unleaded (required)</td>\n",
       "      <td>230.0</td>\n",
       "      <td>6.0</td>\n",
       "      <td>MANUAL</td>\n",
       "      <td>rear wheel drive</td>\n",
       "      <td>2.0</td>\n",
       "      <td>Compact</td>\n",
       "      <td>Convertible</td>\n",
       "      <td>28</td>\n",
       "      <td>18</td>\n",
       "      <td>3916</td>\n",
       "      <td>34500</td>\n",
       "    </tr>\n",
       "  </tbody>\n",
       "</table>\n",
       "</div>"
      ],
      "text/plain": [
       "  Make       Model  Year             Engine Fuel Type  Engine HP  \\\n",
       "0  BMW  1 Series M  2011  premium unleaded (required)      335.0   \n",
       "1  BMW    1 Series  2011  premium unleaded (required)      300.0   \n",
       "2  BMW    1 Series  2011  premium unleaded (required)      300.0   \n",
       "3  BMW    1 Series  2011  premium unleaded (required)      230.0   \n",
       "4  BMW    1 Series  2011  premium unleaded (required)      230.0   \n",
       "\n",
       "   Engine Cylinders Transmission Type     Driven_Wheels  Number of Doors  \\\n",
       "0               6.0            MANUAL  rear wheel drive              2.0   \n",
       "1               6.0            MANUAL  rear wheel drive              2.0   \n",
       "2               6.0            MANUAL  rear wheel drive              2.0   \n",
       "3               6.0            MANUAL  rear wheel drive              2.0   \n",
       "4               6.0            MANUAL  rear wheel drive              2.0   \n",
       "\n",
       "  Vehicle Size Vehicle Style  highway MPG  city mpg  Popularity   MSRP  \n",
       "0      Compact         Coupe           26        19        3916  46135  \n",
       "1      Compact   Convertible           28        19        3916  40650  \n",
       "2      Compact         Coupe           28        20        3916  36350  \n",
       "3      Compact         Coupe           28        18        3916  29450  \n",
       "4      Compact   Convertible           28        18        3916  34500  "
      ]
     },
     "execution_count": 3,
     "metadata": {},
     "output_type": "execute_result"
    }
   ],
   "source": [
    "df = pd.read_csv('data/cars.csv')\n",
    "df.head()"
   ]
  },
  {
   "cell_type": "markdown",
   "metadata": {},
   "source": [
    "# Data clean up part 1.\n",
    "\n",
    "1. Print the number of duplicate rows we have in our dataframe.\n",
    "\n",
    "2. Modify our df to have all duplicate rows removed. \n",
    "\n",
    "3. Do a sanity check to make sure all duplicates have been removed by printing the total number of duplicate rows again."
   ]
  },
  {
   "cell_type": "code",
   "execution_count": 6,
   "metadata": {},
   "outputs": [
    {
     "name": "stdout",
     "output_type": "stream",
     "text": [
      "720\n"
     ]
    }
   ],
   "source": [
    "# 1. Print the number of duplicate rows we have in our dataframe.\n",
    "print(df.duplicated().sum())"
   ]
  },
  {
   "cell_type": "code",
   "execution_count": 11,
   "metadata": {},
   "outputs": [],
   "source": [
    "#  2. Modify our df to have all duplicate rows removed. \n",
    "df = df.drop_duplicates()"
   ]
  },
  {
   "cell_type": "code",
   "execution_count": 15,
   "metadata": {},
   "outputs": [
    {
     "name": "stdout",
     "output_type": "stream",
     "text": [
      "0\n"
     ]
    }
   ],
   "source": [
    "# 3. Do a sanity check to make sure all duplicates have been removed by printing the total number of duplicate rows again.\n",
    "print(df.duplicated().sum())"
   ]
  },
  {
   "cell_type": "markdown",
   "metadata": {},
   "source": [
    "# Data clean up part 2.\n",
    "* Which column has the most null values and how many null values does it have?\n",
    "* Print how long our dataframe is.\n",
    "* Remove any row that has a null value in it. \n",
    "* Do a sanity check and pring how long our dataframe is now that we have removed our null values."
   ]
  },
  {
   "cell_type": "code",
   "execution_count": 16,
   "metadata": {
    "scrolled": true
   },
   "outputs": [
    {
     "data": {
      "text/plain": [
       "Make                  0\n",
       "Model                 0\n",
       "Year                  0\n",
       "Engine Fuel Type      3\n",
       "Engine HP            69\n",
       "Engine Cylinders     30\n",
       "Transmission Type     0\n",
       "Driven_Wheels         0\n",
       "Number of Doors       6\n",
       "Vehicle Size          0\n",
       "Vehicle Style         0\n",
       "highway MPG           0\n",
       "city mpg              0\n",
       "Popularity            0\n",
       "MSRP                  0\n",
       "dtype: int64"
      ]
     },
     "execution_count": 16,
     "metadata": {},
     "output_type": "execute_result"
    }
   ],
   "source": [
    "# * Which column has the most null values and how many null values does it have?\n",
    "df.isnull().sum()"
   ]
  },
  {
   "cell_type": "code",
   "execution_count": 17,
   "metadata": {},
   "outputs": [
    {
     "name": "stdout",
     "output_type": "stream",
     "text": [
      "(11194, 15)\n"
     ]
    }
   ],
   "source": [
    "# * Print how long our dataframe is.\n",
    "print(df.shape)"
   ]
  },
  {
   "cell_type": "code",
   "execution_count": 18,
   "metadata": {},
   "outputs": [],
   "source": [
    "# * Remove any row that has a null value in it. \n",
    "df = df.dropna()"
   ]
  },
  {
   "cell_type": "code",
   "execution_count": 19,
   "metadata": {},
   "outputs": [
    {
     "name": "stdout",
     "output_type": "stream",
     "text": [
      "(11092, 15)\n"
     ]
    }
   ],
   "source": [
    "# * Do a sanity check and print how long our dataframe is now that we have removed our null values.\n",
    "print(df.shape)"
   ]
  },
  {
   "cell_type": "markdown",
   "metadata": {},
   "source": [
    "### Make a bar chart that displays how many times each brand of car appears in this data. \n",
    "_Brand of car is the `Make` of the car._\n",
    "* You can achieve this by using value_counts or by a groupby.  Either is fine with me. "
   ]
  },
  {
   "cell_type": "code",
   "execution_count": 100,
   "metadata": {},
   "outputs": [
    {
     "data": {
      "image/png": "[encoded data removed]",
      "text/plain": [
       "<Figure size 720x360 with 1 Axes>"
      ]
     },
     "metadata": {
      "needs_background": "light"
     },
     "output_type": "display_data"
    }
   ],
   "source": [
    "# Make a bar chart that displays how many times each brand of car appears in this data. \n",
    "# gpby = df.groupby('Make').count()\n",
    "gbby = df['Make'].value_counts()\n",
    "gpby.plot(kind='bar', figsize=(10,5));"
   ]
  },
  {
   "cell_type": "markdown",
   "metadata": {},
   "source": [
    "# Make the cart more legible, by making it a horizontal bar chart and changing the figure size.  And also sort the values so the bar chart displays from lowest to highest."
   ]
  },
  {
   "cell_type": "code",
   "execution_count": 103,
   "metadata": {},
   "outputs": [
    {
     "data": {
      "image/png": "[encoded data removed]",
      "text/plain": [
       "<Figure size 1080x720 with 1 Axes>"
      ]
     },
     "metadata": {
      "needs_background": "light"
     },
     "output_type": "display_data"
    }
   ],
   "source": [
    "# Make the cart more legible, by making it a horizontal bar chart, sorting the values, and changing the figure size.\n",
    "gpby = df['Make'].value_counts()\n",
    "gpby.sort_values(ascending=True)\n",
    "gpby.plot(kind='barh', figsize=(15,10));"
   ]
  },
  {
   "cell_type": "markdown",
   "metadata": {},
   "source": [
    "### Make a timeline line chart in which the x-axis is the year, and the y-axis is the average MSRP.\n",
    "* What's noticeable about it and what do you think the error is...\n"
   ]
  },
  {
   "cell_type": "code",
   "execution_count": 115,
   "metadata": {},
   "outputs": [
    {
     "data": {
      "image/png": "[encoded data removed]",
      "text/plain": [
       "<Figure size 720x360 with 1 Axes>"
      ]
     },
     "metadata": {
      "needs_background": "light"
     },
     "output_type": "display_data"
    }
   ],
   "source": [
    "# Make a timeline line chart in which the x-axis is the year, and the y-axis is the average MSRP.\n",
    "df.head()\n",
    "gpby = df.groupby('Year')['MSRP'].mean()\n",
    "gpby.plot(kind='line', x='Year', y='MSRP', figsize=(10,5));"
   ]
  },
  {
   "cell_type": "markdown",
   "metadata": {},
   "source": [
    "# It seems as though in the years before (and includig) 2000, they were counting in tens.\n",
    "Make a new column that is called `adjusted_price`, that contains all prices, however, for every year before 2000 make it 10x the original MSRP.  \n",
    "   * Hint; you might need to use our old friend `np.where`"
   ]
  },
  {
   "cell_type": "code",
   "execution_count": 123,
   "metadata": {},
   "outputs": [
    {
     "data": {
      "text/html": [
       "<div>\n",
       "<style scoped>\n",
       "    .dataframe tbody tr th:only-of-type {\n",
       "        vertical-align: middle;\n",
       "    }\n",
       "\n",
       "    .dataframe tbody tr th {\n",
       "        vertical-align: top;\n",
       "    }\n",
       "\n",
       "    .dataframe thead th {\n",
       "        text-align: right;\n",
       "    }\n",
       "</style>\n",
       "<table border=\"1\" class=\"dataframe\">\n",
       "  <thead>\n",
       "    <tr style=\"text-align: right;\">\n",
       "      <th></th>\n",
       "      <th>Make</th>\n",
       "      <th>Model</th>\n",
       "      <th>Year</th>\n",
       "      <th>Engine Fuel Type</th>\n",
       "      <th>Engine HP</th>\n",
       "      <th>Engine Cylinders</th>\n",
       "      <th>Transmission Type</th>\n",
       "      <th>Driven_Wheels</th>\n",
       "      <th>Number of Doors</th>\n",
       "      <th>Vehicle Size</th>\n",
       "      <th>Vehicle Style</th>\n",
       "      <th>highway MPG</th>\n",
       "      <th>city mpg</th>\n",
       "      <th>Popularity</th>\n",
       "      <th>MSRP</th>\n",
       "      <th>adjusted_price</th>\n",
       "    </tr>\n",
       "  </thead>\n",
       "  <tbody>\n",
       "    <tr>\n",
       "      <th>30</th>\n",
       "      <td>Audi</td>\n",
       "      <td>100</td>\n",
       "      <td>1994</td>\n",
       "      <td>regular unleaded</td>\n",
       "      <td>172.0</td>\n",
       "      <td>6.0</td>\n",
       "      <td>AUTOMATIC</td>\n",
       "      <td>front wheel drive</td>\n",
       "      <td>4.0</td>\n",
       "      <td>Midsize</td>\n",
       "      <td>Sedan</td>\n",
       "      <td>22</td>\n",
       "      <td>16</td>\n",
       "      <td>3105</td>\n",
       "      <td>2000</td>\n",
       "      <td>20000</td>\n",
       "    </tr>\n",
       "    <tr>\n",
       "      <th>31</th>\n",
       "      <td>Audi</td>\n",
       "      <td>100</td>\n",
       "      <td>1994</td>\n",
       "      <td>regular unleaded</td>\n",
       "      <td>172.0</td>\n",
       "      <td>6.0</td>\n",
       "      <td>AUTOMATIC</td>\n",
       "      <td>all wheel drive</td>\n",
       "      <td>4.0</td>\n",
       "      <td>Midsize</td>\n",
       "      <td>Wagon</td>\n",
       "      <td>21</td>\n",
       "      <td>16</td>\n",
       "      <td>3105</td>\n",
       "      <td>2000</td>\n",
       "      <td>20000</td>\n",
       "    </tr>\n",
       "    <tr>\n",
       "      <th>32</th>\n",
       "      <td>FIAT</td>\n",
       "      <td>124 Spider</td>\n",
       "      <td>2017</td>\n",
       "      <td>premium unleaded (recommended)</td>\n",
       "      <td>160.0</td>\n",
       "      <td>4.0</td>\n",
       "      <td>MANUAL</td>\n",
       "      <td>rear wheel drive</td>\n",
       "      <td>2.0</td>\n",
       "      <td>Compact</td>\n",
       "      <td>Convertible</td>\n",
       "      <td>35</td>\n",
       "      <td>26</td>\n",
       "      <td>819</td>\n",
       "      <td>27495</td>\n",
       "      <td>27495</td>\n",
       "    </tr>\n",
       "    <tr>\n",
       "      <th>33</th>\n",
       "      <td>FIAT</td>\n",
       "      <td>124 Spider</td>\n",
       "      <td>2017</td>\n",
       "      <td>premium unleaded (recommended)</td>\n",
       "      <td>160.0</td>\n",
       "      <td>4.0</td>\n",
       "      <td>MANUAL</td>\n",
       "      <td>rear wheel drive</td>\n",
       "      <td>2.0</td>\n",
       "      <td>Compact</td>\n",
       "      <td>Convertible</td>\n",
       "      <td>35</td>\n",
       "      <td>26</td>\n",
       "      <td>819</td>\n",
       "      <td>24995</td>\n",
       "      <td>24995</td>\n",
       "    </tr>\n",
       "    <tr>\n",
       "      <th>34</th>\n",
       "      <td>FIAT</td>\n",
       "      <td>124 Spider</td>\n",
       "      <td>2017</td>\n",
       "      <td>premium unleaded (recommended)</td>\n",
       "      <td>160.0</td>\n",
       "      <td>4.0</td>\n",
       "      <td>MANUAL</td>\n",
       "      <td>rear wheel drive</td>\n",
       "      <td>2.0</td>\n",
       "      <td>Compact</td>\n",
       "      <td>Convertible</td>\n",
       "      <td>35</td>\n",
       "      <td>26</td>\n",
       "      <td>819</td>\n",
       "      <td>28195</td>\n",
       "      <td>28195</td>\n",
       "    </tr>\n",
       "  </tbody>\n",
       "</table>\n",
       "</div>"
      ],
      "text/plain": [
       "    Make       Model  Year                Engine Fuel Type  Engine HP  \\\n",
       "30  Audi         100  1994                regular unleaded      172.0   \n",
       "31  Audi         100  1994                regular unleaded      172.0   \n",
       "32  FIAT  124 Spider  2017  premium unleaded (recommended)      160.0   \n",
       "33  FIAT  124 Spider  2017  premium unleaded (recommended)      160.0   \n",
       "34  FIAT  124 Spider  2017  premium unleaded (recommended)      160.0   \n",
       "\n",
       "    Engine Cylinders Transmission Type      Driven_Wheels  Number of Doors  \\\n",
       "30               6.0         AUTOMATIC  front wheel drive              4.0   \n",
       "31               6.0         AUTOMATIC    all wheel drive              4.0   \n",
       "32               4.0            MANUAL   rear wheel drive              2.0   \n",
       "33               4.0            MANUAL   rear wheel drive              2.0   \n",
       "34               4.0            MANUAL   rear wheel drive              2.0   \n",
       "\n",
       "   Vehicle Size Vehicle Style  highway MPG  city mpg  Popularity   MSRP  \\\n",
       "30      Midsize         Sedan           22        16        3105   2000   \n",
       "31      Midsize         Wagon           21        16        3105   2000   \n",
       "32      Compact   Convertible           35        26         819  27495   \n",
       "33      Compact   Convertible           35        26         819  24995   \n",
       "34      Compact   Convertible           35        26         819  28195   \n",
       "\n",
       "    adjusted_price  \n",
       "30           20000  \n",
       "31           20000  \n",
       "32           27495  \n",
       "33           24995  \n",
       "34           28195  "
      ]
     },
     "execution_count": 123,
     "metadata": {},
     "output_type": "execute_result"
    }
   ],
   "source": [
    "# Make a column where is 10 when year is less than 2000, else 1.\n",
    "condition = df['Year'] <= 2000\n",
    "df['adjusted_price'] = np.where(condition, 10, 1)\n",
    "\n",
    "# Multiply the MSRP by the price adjuster.\n",
    "df['adjusted_price'] = df['MSRP'] * df['adjusted_price']\n",
    "df.iloc[25:30]"
   ]
  },
  {
   "cell_type": "markdown",
   "metadata": {},
   "source": [
    "# Replot the new adjusted price.  \n",
    "* Make the y-axis start at 0 and go up to 100,000"
   ]
  },
  {
   "cell_type": "code",
   "execution_count": 125,
   "metadata": {},
   "outputs": [
    {
     "data": {
      "image/png": "[encoded data removed]",
      "text/plain": [
       "<Figure size 720x360 with 1 Axes>"
      ]
     },
     "metadata": {
      "needs_background": "light"
     },
     "output_type": "display_data"
    }
   ],
   "source": [
    "# Plot new prices\n",
    "gpby = df.groupby('Year')['adjusted_price'].mean()\n",
    "gpby.plot(kind='line', x='Year', y='adjusted_price', ylim=(0, 100000), figsize=(10,5));"
   ]
  },
  {
   "cell_type": "markdown",
   "metadata": {},
   "source": [
    "# What are top 5 car makers that make the most expensive cars on average. \n",
    "* I only want the top 5, make sure your answer is the top 5 and only the top 5. (hint, you can use .head())\n",
    "* Use our `adjusted_price` column for this\n",
    "* Hint; you're going to have to do a .groupby to answer this."
   ]
  },
  {
   "cell_type": "code",
   "execution_count": 156,
   "metadata": {},
   "outputs": [
    {
     "data": {
      "text/html": [
       "<div>\n",
       "<style scoped>\n",
       "    .dataframe tbody tr th:only-of-type {\n",
       "        vertical-align: middle;\n",
       "    }\n",
       "\n",
       "    .dataframe tbody tr th {\n",
       "        vertical-align: top;\n",
       "    }\n",
       "\n",
       "    .dataframe thead th {\n",
       "        text-align: right;\n",
       "    }\n",
       "</style>\n",
       "<table border=\"1\" class=\"dataframe\">\n",
       "  <thead>\n",
       "    <tr style=\"text-align: right;\">\n",
       "      <th></th>\n",
       "      <th>Make</th>\n",
       "      <th>adjusted_price</th>\n",
       "    </tr>\n",
       "  </thead>\n",
       "  <tbody>\n",
       "    <tr>\n",
       "      <th>6</th>\n",
       "      <td>Bugatti</td>\n",
       "      <td>1.757224e+06</td>\n",
       "    </tr>\n",
       "    <tr>\n",
       "      <th>28</th>\n",
       "      <td>Maybach</td>\n",
       "      <td>5.462219e+05</td>\n",
       "    </tr>\n",
       "    <tr>\n",
       "      <th>38</th>\n",
       "      <td>Rolls-Royce</td>\n",
       "      <td>3.511306e+05</td>\n",
       "    </tr>\n",
       "    <tr>\n",
       "      <th>22</th>\n",
       "      <td>Lamborghini</td>\n",
       "      <td>3.315673e+05</td>\n",
       "    </tr>\n",
       "    <tr>\n",
       "      <th>5</th>\n",
       "      <td>Bentley</td>\n",
       "      <td>2.471693e+05</td>\n",
       "    </tr>\n",
       "  </tbody>\n",
       "</table>\n",
       "</div>"
      ],
      "text/plain": [
       "           Make  adjusted_price\n",
       "6       Bugatti    1.757224e+06\n",
       "28      Maybach    5.462219e+05\n",
       "38  Rolls-Royce    3.511306e+05\n",
       "22  Lamborghini    3.315673e+05\n",
       "5       Bentley    2.471693e+05"
      ]
     },
     "execution_count": 156,
     "metadata": {},
     "output_type": "execute_result"
    }
   ],
   "source": [
    "# What are the top 5 car makers make the most expensive cars on average. \n",
    "gpby = df.groupby('Make')['adjusted_price'].mean()\n",
    "new_df = pd.DataFrame(gpby)\n",
    "new_df = new_df.reset_index()\n",
    "exps_car = new_df.sort_values(by=['adjusted_price'], ascending=False)\n",
    "exps_car.head()"
   ]
  },
  {
   "cell_type": "markdown",
   "metadata": {},
   "source": [
    "# What are the 5 car makers that have the highest median highway MPG?"
   ]
  },
  {
   "cell_type": "code",
   "execution_count": 157,
   "metadata": {},
   "outputs": [
    {
     "data": {
      "text/html": [
       "<div>\n",
       "<style scoped>\n",
       "    .dataframe tbody tr th:only-of-type {\n",
       "        vertical-align: middle;\n",
       "    }\n",
       "\n",
       "    .dataframe tbody tr th {\n",
       "        vertical-align: top;\n",
       "    }\n",
       "\n",
       "    .dataframe thead th {\n",
       "        text-align: right;\n",
       "    }\n",
       "</style>\n",
       "<table border=\"1\" class=\"dataframe\">\n",
       "  <thead>\n",
       "    <tr style=\"text-align: right;\">\n",
       "      <th></th>\n",
       "      <th>Make</th>\n",
       "      <th>highway MPG</th>\n",
       "    </tr>\n",
       "  </thead>\n",
       "  <tbody>\n",
       "    <tr>\n",
       "      <th>1</th>\n",
       "      <td>Alfa Romeo</td>\n",
       "      <td>34</td>\n",
       "    </tr>\n",
       "    <tr>\n",
       "      <th>12</th>\n",
       "      <td>FIAT</td>\n",
       "      <td>33</td>\n",
       "    </tr>\n",
       "    <tr>\n",
       "      <th>45</th>\n",
       "      <td>Volkswagen</td>\n",
       "      <td>32</td>\n",
       "    </tr>\n",
       "    <tr>\n",
       "      <th>40</th>\n",
       "      <td>Scion</td>\n",
       "      <td>32</td>\n",
       "    </tr>\n",
       "    <tr>\n",
       "      <th>18</th>\n",
       "      <td>Honda</td>\n",
       "      <td>32</td>\n",
       "    </tr>\n",
       "  </tbody>\n",
       "</table>\n",
       "</div>"
      ],
      "text/plain": [
       "          Make  highway MPG\n",
       "1   Alfa Romeo           34\n",
       "12        FIAT           33\n",
       "45  Volkswagen           32\n",
       "40       Scion           32\n",
       "18       Honda           32"
      ]
     },
     "execution_count": 157,
     "metadata": {},
     "output_type": "execute_result"
    }
   ],
   "source": [
    "# Which car makers have the highest median highway MPG?\n",
    "gpby = df.groupby('Make')['highway MPG'].median()\n",
    "new_df = pd.DataFrame(gpby)\n",
    "new_df = new_df.reset_index()\n",
    "hmpg_car = new_df.sort_values(by=['highway MPG'], ascending=False)\n",
    "hmpg_car.head()"
   ]
  },
  {
   "cell_type": "markdown",
   "metadata": {},
   "source": [
    "# Using `sns.histplot`, make histogram of the adjusted_price of just these car makers.\n",
    "* ['Chevrolet', 'Ford', 'Toyota']\n",
    "* Create a temp_df to store the dataframe of just these values.\n",
    "* Set the 'hue='Make''."
   ]
  },
  {
   "cell_type": "code",
   "execution_count": 19,
   "metadata": {},
   "outputs": [],
   "source": [
    "# Using `sns.histplot`, make histogram of the adjusted_price of just these car makers.\n",
    "\n"
   ]
  },
  {
   "cell_type": "markdown",
   "metadata": {},
   "source": [
    "# Remake the same histogram, but limit the x-axis from 0 to 100,000"
   ]
  },
  {
   "cell_type": "code",
   "execution_count": 20,
   "metadata": {},
   "outputs": [],
   "source": [
    "# Remake the same histogram, but limit the x-axis from 0 to 100,000\n",
    "\n"
   ]
  },
  {
   "cell_type": "markdown",
   "metadata": {},
   "source": [
    "# Plot the relationship between Engine HP and highway MPG"
   ]
  },
  {
   "cell_type": "code",
   "execution_count": 22,
   "metadata": {},
   "outputs": [],
   "source": [
    "# Plot the relationship between Engine HP and highway MPG\n"
   ]
  },
  {
   "cell_type": "markdown",
   "metadata": {},
   "source": [
    "# Using `sns.boxplot`, create a boxplot for the 'Engine HP'"
   ]
  },
  {
   "cell_type": "code",
   "execution_count": 23,
   "metadata": {},
   "outputs": [],
   "source": [
    "# create a boxplot for the 'Engine HP'\n"
   ]
  },
  {
   "cell_type": "markdown",
   "metadata": {},
   "source": [
    "# Make another boxplot for highway MPG"
   ]
  },
  {
   "cell_type": "code",
   "execution_count": 24,
   "metadata": {},
   "outputs": [],
   "source": [
    "# create a boxplot for the 'highway MPG'\n"
   ]
  },
  {
   "cell_type": "markdown",
   "metadata": {},
   "source": [
    "# Remove any  outliers from Engine HP and highway MPG \n",
    "\n",
    "<img src='https://miro.medium.com/max/1400/1*2c21SkzJMf3frPXPAR_gZA.png' width=500>\n",
    "\n",
    "* Outliers meaning values that are outside 1.5x the Inter Quartile Range (see image above).\n",
    "* For each column (Engine HP and highway MPG):\n",
    "* Calculate the 0.25 and 0.75 Quantiles\n",
    "* Calculate the Inter Quartile Range (IQR)\n",
    "* Create condition mask for the values that are outliers below (in the 'Minimum' range).\n",
    "* Create condition mask for the values that are outliers above (in the 'Maximum' range).\n",
    "* Filter the dataframe to remove any values that are in the above section _OR_ the below section. (hint; it may be easier to use the inverse selection '~'.\n",
    "* Make the same boxplots of Engine HP and Highway MPG as before but with the this dataframe."
   ]
  },
  {
   "cell_type": "code",
   "execution_count": 25,
   "metadata": {},
   "outputs": [],
   "source": [
    "# Remove any  outliers from Engine HP and highway MPG \n"
   ]
  },
  {
   "cell_type": "markdown",
   "metadata": {},
   "source": [
    "# Remake the boxplots for both Engine HP and highway MPG\n"
   ]
  },
  {
   "cell_type": "code",
   "execution_count": 26,
   "metadata": {},
   "outputs": [],
   "source": [
    "# Engine HP boxplot\n"
   ]
  },
  {
   "cell_type": "code",
   "execution_count": 27,
   "metadata": {},
   "outputs": [],
   "source": [
    "# highway MPG boxplot\n",
    "\n"
   ]
  },
  {
   "cell_type": "markdown",
   "metadata": {},
   "source": [
    "# Make a scatter plot of Engine HP vs highway MPG"
   ]
  },
  {
   "cell_type": "code",
   "execution_count": 28,
   "metadata": {},
   "outputs": [],
   "source": [
    "# Make a scatter plot of Engine HP vs highway MPG\n"
   ]
  },
  {
   "cell_type": "markdown",
   "metadata": {},
   "source": [
    "# What does this plot tell you about how Engine HP affects highway MPG?"
   ]
  },
  {
   "cell_type": "code",
   "execution_count": 34,
   "metadata": {},
   "outputs": [
    {
     "name": "stdout",
     "output_type": "stream",
     "text": [
      "Your answer here.\n"
     ]
    }
   ],
   "source": [
    "# What does this plot tell you about how Engine HP affects highway MPG?\n",
    "\n",
    "print('Your answer here.')"
   ]
  },
  {
   "cell_type": "markdown",
   "metadata": {},
   "source": [
    "# Using a pairplot, display all of the linear relationship.\n",
    "* Which variables look like they have the strongest linear relationship (Besides MSRP and adjusted_price)."
   ]
  },
  {
   "cell_type": "code",
   "execution_count": 30,
   "metadata": {},
   "outputs": [],
   "source": [
    "# Using a pairplot, display all of the linear relationship.\n",
    "\n"
   ]
  },
  {
   "cell_type": "code",
   "execution_count": 31,
   "metadata": {},
   "outputs": [],
   "source": [
    "# * Which variables look like they have the strongest linear relationship (Besides MSRP and adjusted_price).\n",
    "\n"
   ]
  },
  {
   "cell_type": "markdown",
   "metadata": {},
   "source": [
    "# Find which features actually have the strongest linear relationship using correlations.\n",
    "* Make a heatmap plot of all of the correlations in our dataset.\n",
    "* Change the figure size of our heatmap plot to be 8x8\n",
    "* __Which feature does Engine HP have the strongest relationship with, and why do you think that relationship exists.__"
   ]
  },
  {
   "cell_type": "code",
   "execution_count": 32,
   "metadata": {},
   "outputs": [],
   "source": [
    "# * Make a heatmap plot of all of the correlations in our dataset.\n",
    "# * Change the figure size of our heatmap plot to be 8x8\n",
    "\n",
    "\n"
   ]
  },
  {
   "cell_type": "code",
   "execution_count": 33,
   "metadata": {},
   "outputs": [
    {
     "name": "stdout",
     "output_type": "stream",
     "text": [
      "Your answer here\n"
     ]
    }
   ],
   "source": [
    "# Which feature does Engine HP have the strongest relationship with, and why do you think that relationship exists.\n",
    "\n",
    "print('Your answer here')"
   ]
  },
  {
   "cell_type": "markdown",
   "metadata": {},
   "source": [
    "# [EXTRA CREDIT] \n",
    "* In the column names, replace all the spaces with an underscore, and make them all lowercase as well\n"
   ]
  },
  {
   "cell_type": "code",
   "execution_count": 35,
   "metadata": {},
   "outputs": [],
   "source": [
    "# * In the column names, replace all the spaces with an underscore, and make them all lowercase as well\n",
    "\n"
   ]
  },
  {
   "cell_type": "code",
   "execution_count": null,
   "metadata": {},
   "outputs": [],
   "source": []
  }
 ],
 "metadata": {
  "kernelspec": {
   "display_name": "Python 3",
   "language": "python",
   "name": "python3"
  },
  "language_info": {
   "codemirror_mode": {
    "name": "ipython",
    "version": 3
   },
   "file_extension": ".py",
   "mimetype": "text/x-python",
   "name": "python",
   "nbconvert_exporter": "python",
   "pygments_lexer": "ipython3",
   "version": "3.8.8"
  }
 },
 "nbformat": 4,
 "nbformat_minor": 2
}
